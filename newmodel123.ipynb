{
 "cells": [
  {
   "cell_type": "code",
   "execution_count": 1,
   "id": "7a694192",
   "metadata": {},
   "outputs": [],
   "source": [
    "#Importing all required libraries\n",
    "import pandas as pd\n",
    "import numpy as np\n",
    "from sklearn import preprocessing\n",
    "from sklearn.model_selection import train_test_split \n",
    "from sklearn.preprocessing import MinMaxScaler\n",
    "from sklearn.metrics import accuracy_score,confusion_matrix, precision_score,recall_score,f1_score,fbeta_score\n",
    "from sklearn.ensemble import ExtraTreesClassifier\n",
    "from sklearn.inspection import permutation_importance\n",
    "from sklearn.model_selection import cross_val_score\n",
    "import warnings\n",
    "warnings.filterwarnings('ignore')\n",
    "import matplotlib.pyplot as plt\n",
    "label_encoder = preprocessing.LabelEncoder()"
   ]
  },
  {
   "cell_type": "code",
   "execution_count": 2,
   "id": "76db4314",
   "metadata": {},
   "outputs": [
    {
     "name": "stdout",
     "output_type": "stream",
     "text": [
      "(14999, 10)\n"
     ]
    }
   ],
   "source": [
    "#reading and understanding data\n",
    "p1=pd.read_csv(\"C:/Users/Vinayak Gaur/Desktop/EmpAttrition.csv\")\n",
    "p1.head()\n",
    "print(p1.shape)"
   ]
  },
  {
   "cell_type": "code",
   "execution_count": 3,
   "id": "332fa2ac",
   "metadata": {},
   "outputs": [],
   "source": [
    "p1['sales']= label_encoder.fit_transform(p1['sales'])\n",
    "p1['salary']= label_encoder.fit_transform(p1['salary'])\n"
   ]
  },
  {
   "cell_type": "code",
   "execution_count": 4,
   "id": "e3fcae1e",
   "metadata": {},
   "outputs": [
    {
     "data": {
      "text/html": [
       "<div>\n",
       "<style scoped>\n",
       "    .dataframe tbody tr th:only-of-type {\n",
       "        vertical-align: middle;\n",
       "    }\n",
       "\n",
       "    .dataframe tbody tr th {\n",
       "        vertical-align: top;\n",
       "    }\n",
       "\n",
       "    .dataframe thead th {\n",
       "        text-align: right;\n",
       "    }\n",
       "</style>\n",
       "<table border=\"1\" class=\"dataframe\">\n",
       "  <thead>\n",
       "    <tr style=\"text-align: right;\">\n",
       "      <th></th>\n",
       "      <th>satisfaction_level</th>\n",
       "      <th>last_evaluation</th>\n",
       "      <th>number_project</th>\n",
       "      <th>average_montly_hours</th>\n",
       "      <th>time_spend_company</th>\n",
       "      <th>Work_accident</th>\n",
       "      <th>left</th>\n",
       "      <th>promotion_last_5years</th>\n",
       "      <th>sales</th>\n",
       "      <th>salary</th>\n",
       "    </tr>\n",
       "  </thead>\n",
       "  <tbody>\n",
       "    <tr>\n",
       "      <th>0</th>\n",
       "      <td>0.38</td>\n",
       "      <td>0.53</td>\n",
       "      <td>2</td>\n",
       "      <td>157</td>\n",
       "      <td>3</td>\n",
       "      <td>0</td>\n",
       "      <td>1</td>\n",
       "      <td>0</td>\n",
       "      <td>7</td>\n",
       "      <td>1</td>\n",
       "    </tr>\n",
       "    <tr>\n",
       "      <th>1</th>\n",
       "      <td>0.80</td>\n",
       "      <td>0.86</td>\n",
       "      <td>5</td>\n",
       "      <td>262</td>\n",
       "      <td>6</td>\n",
       "      <td>0</td>\n",
       "      <td>1</td>\n",
       "      <td>0</td>\n",
       "      <td>7</td>\n",
       "      <td>2</td>\n",
       "    </tr>\n",
       "    <tr>\n",
       "      <th>2</th>\n",
       "      <td>0.11</td>\n",
       "      <td>0.88</td>\n",
       "      <td>7</td>\n",
       "      <td>272</td>\n",
       "      <td>4</td>\n",
       "      <td>0</td>\n",
       "      <td>1</td>\n",
       "      <td>0</td>\n",
       "      <td>7</td>\n",
       "      <td>2</td>\n",
       "    </tr>\n",
       "    <tr>\n",
       "      <th>3</th>\n",
       "      <td>0.72</td>\n",
       "      <td>0.87</td>\n",
       "      <td>5</td>\n",
       "      <td>223</td>\n",
       "      <td>5</td>\n",
       "      <td>0</td>\n",
       "      <td>1</td>\n",
       "      <td>0</td>\n",
       "      <td>7</td>\n",
       "      <td>1</td>\n",
       "    </tr>\n",
       "    <tr>\n",
       "      <th>4</th>\n",
       "      <td>0.37</td>\n",
       "      <td>0.52</td>\n",
       "      <td>2</td>\n",
       "      <td>159</td>\n",
       "      <td>3</td>\n",
       "      <td>0</td>\n",
       "      <td>1</td>\n",
       "      <td>0</td>\n",
       "      <td>7</td>\n",
       "      <td>1</td>\n",
       "    </tr>\n",
       "  </tbody>\n",
       "</table>\n",
       "</div>"
      ],
      "text/plain": [
       "   satisfaction_level  last_evaluation  number_project  average_montly_hours  \\\n",
       "0                0.38             0.53               2                   157   \n",
       "1                0.80             0.86               5                   262   \n",
       "2                0.11             0.88               7                   272   \n",
       "3                0.72             0.87               5                   223   \n",
       "4                0.37             0.52               2                   159   \n",
       "\n",
       "   time_spend_company  Work_accident  left  promotion_last_5years  sales  \\\n",
       "0                   3              0     1                      0      7   \n",
       "1                   6              0     1                      0      7   \n",
       "2                   4              0     1                      0      7   \n",
       "3                   5              0     1                      0      7   \n",
       "4                   3              0     1                      0      7   \n",
       "\n",
       "   salary  \n",
       "0       1  \n",
       "1       2  \n",
       "2       2  \n",
       "3       1  \n",
       "4       1  "
      ]
     },
     "execution_count": 4,
     "metadata": {},
     "output_type": "execute_result"
    }
   ],
   "source": [
    "p1.head()"
   ]
  },
  {
   "cell_type": "code",
   "execution_count": 5,
   "id": "e8781692",
   "metadata": {},
   "outputs": [
    {
     "name": "stdout",
     "output_type": "stream",
     "text": [
      "satisfaction_level       0\n",
      "last_evaluation          0\n",
      "number_project           0\n",
      "average_montly_hours     0\n",
      "time_spend_company       0\n",
      "Work_accident            0\n",
      "left                     0\n",
      "promotion_last_5years    0\n",
      "sales                    0\n",
      "salary                   0\n",
      "dtype: int64\n",
      "satisfaction_level       0\n",
      "last_evaluation          0\n",
      "number_project           0\n",
      "average_montly_hours     0\n",
      "time_spend_company       0\n",
      "Work_accident            0\n",
      "left                     0\n",
      "promotion_last_5years    0\n",
      "sales                    0\n",
      "salary                   0\n",
      "dtype: int64\n"
     ]
    },
    {
     "data": {
      "text/plain": [
       "(14999, 10)"
      ]
     },
     "execution_count": 5,
     "metadata": {},
     "output_type": "execute_result"
    }
   ],
   "source": [
    "#Dealing with missing data\n",
    "print(p1.isnull().sum())\n",
    "print(p1.isna().sum())\n",
    "p1.shape"
   ]
  },
  {
   "cell_type": "code",
   "execution_count": 6,
   "id": "88f55064",
   "metadata": {},
   "outputs": [
    {
     "name": "stdout",
     "output_type": "stream",
     "text": [
      "(11428, 10)\n",
      "(3571, 10)\n"
     ]
    }
   ],
   "source": [
    "#Checking for balance data\n",
    "a=p1[p1['left']==0]\n",
    "b=p1[p1['left']==1]\n",
    "print(a.shape)\n",
    "print(b.shape)\n",
    "# The dataset is not balanced"
   ]
  },
  {
   "cell_type": "code",
   "execution_count": 7,
   "id": "ef166e83",
   "metadata": {},
   "outputs": [],
   "source": [
    "#Scaling the data\n",
    "x = np.array(p1.drop('left',axis=1))\n",
    "y = np.array(p1['left'])\n",
    "MMS = MinMaxScaler()\n",
    "x_trans = MMS.fit_transform(x)\n",
    "y_trans = MMS.fit_transform(y.reshape(-1, 1))"
   ]
  },
  {
   "cell_type": "code",
   "execution_count": 8,
   "id": "fd2f7cf3",
   "metadata": {},
   "outputs": [],
   "source": [
    "import imblearn\n",
    "from imblearn.over_sampling import SMOTE\n",
    "\n",
    "smote = SMOTE()\n",
    "\n",
    "# fit predictor and target variable\n",
    "x_smote, y_smote = smote.fit_resample(x_trans,y_trans)\n"
   ]
  },
  {
   "cell_type": "code",
   "execution_count": 9,
   "id": "2ee32110",
   "metadata": {},
   "outputs": [],
   "source": [
    "X,Y=x_smote, y_smote\n",
    "X_train, X_test, y_train, y_test = train_test_split(X, Y, test_size = 0.30, random_state = 111)\n"
   ]
  },
  {
   "cell_type": "code",
   "execution_count": 10,
   "id": "1eec65fa",
   "metadata": {},
   "outputs": [],
   "source": [
    "clf = ExtraTreesClassifier(random_state=111)\n",
    "clf.fit(X_train, y_train)\n",
    "y_pred  =  clf.predict(X_test)\n",
    "acc=cross_val_score(estimator=clf,X=X_train,y=y_train,cv=10,n_jobs=-1)\n",
    "A_C=acc.mean()\n",
    "C= confusion_matrix(y_test, y_pred)\n",
    "Se= (C[1][1])/(C[1][1]+C[1][0])\n",
    "Sp=(C[0][0])/(C[0][0]+C[0][1])\n",
    "A=(round(accuracy_score(y_test, y_pred)*100,2))\n",
    "E=100-A\n",
    "P=round(precision_score(y_test,y_pred,average='binary'),2)\n",
    "R=round(recall_score(y_test,y_pred,average='binary'),2)"
   ]
  },
  {
   "cell_type": "code",
   "execution_count": 11,
   "id": "e2c32f93",
   "metadata": {},
   "outputs": [
    {
     "name": "stdout",
     "output_type": "stream",
     "text": [
      "98.88 0.99 0.98 \n",
      " [[3404   22]\n",
      " [  55 3376]]\n"
     ]
    }
   ],
   "source": [
    "print(A,P,R,\"\\n\",C)"
   ]
  },
  {
   "cell_type": "code",
   "execution_count": 12,
   "id": "2f50ec74",
   "metadata": {},
   "outputs": [
    {
     "data": {
      "text/plain": [
       "['Model123.pkl']"
      ]
     },
     "execution_count": 12,
     "metadata": {},
     "output_type": "execute_result"
    }
   ],
   "source": [
    "import joblib\n",
    "joblib.dump(clf,\"Model123.pkl\")"
   ]
  },
  {
   "cell_type": "code",
   "execution_count": 13,
   "id": "38a3595e",
   "metadata": {},
   "outputs": [],
   "source": [
    "mdl123=joblib.load(\"Model123.pkl\")"
   ]
  },
  {
   "cell_type": "code",
   "execution_count": 14,
   "id": "34648b69",
   "metadata": {},
   "outputs": [
    {
     "data": {
      "text/plain": [
       "satisfaction_level         0.43\n",
       "last_evaluation            0.55\n",
       "number_project             2.00\n",
       "average_montly_hours     129.00\n",
       "time_spend_company         3.00\n",
       "Work_accident              0.00\n",
       "left                       1.00\n",
       "promotion_last_5years      0.00\n",
       "sales                      7.00\n",
       "salary                     1.00\n",
       "Name: 166, dtype: float64"
      ]
     },
     "execution_count": 14,
     "metadata": {},
     "output_type": "execute_result"
    }
   ],
   "source": [
    "p1.iloc[166][:]"
   ]
  },
  {
   "cell_type": "code",
   "execution_count": 15,
   "id": "709450e0",
   "metadata": {},
   "outputs": [],
   "source": [
    "X=np.asarray((0.7,0.4,2,169,3,0,0,7,1))\n",
    "X=X.reshape(1,-1)"
   ]
  },
  {
   "cell_type": "code",
   "execution_count": 16,
   "id": "31cf0d8e",
   "metadata": {},
   "outputs": [
    {
     "name": "stdout",
     "output_type": "stream",
     "text": [
      "[0.]\n"
     ]
    }
   ],
   "source": [
    "Y=mdl123.predict(X)\n",
    "print(Y)"
   ]
  },
  {
   "cell_type": "code",
   "execution_count": null,
   "id": "26e1d335",
   "metadata": {},
   "outputs": [],
   "source": []
  }
 ],
 "metadata": {
  "kernelspec": {
   "display_name": "Python 3 (ipykernel)",
   "language": "python",
   "name": "python3"
  },
  "language_info": {
   "codemirror_mode": {
    "name": "ipython",
    "version": 3
   },
   "file_extension": ".py",
   "mimetype": "text/x-python",
   "name": "python",
   "nbconvert_exporter": "python",
   "pygments_lexer": "ipython3",
   "version": "3.8.12"
  }
 },
 "nbformat": 4,
 "nbformat_minor": 5
}
